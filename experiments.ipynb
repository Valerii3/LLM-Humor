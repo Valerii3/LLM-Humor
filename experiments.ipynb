{
 "cells": [
  {
   "cell_type": "markdown",
   "metadata": {},
   "source": [
    "# LLM's Experiments in Humor\n",
    "\n",
    "This notebook contains my observations on various jokes and a description of the techniques I used. You can find all relevant links in the README."
   ]
  },
  {
   "cell_type": "code",
   "execution_count": 56,
   "metadata": {},
   "outputs": [],
   "source": [
    "from openai import OpenAI, AsyncOpenAI\n",
    "from enum import Enum\n",
    "import json\n",
    "import csv\n",
    "import re\n",
    "\n",
    "OPENAI_API_KEY = \"YOUR_API_KEY\""
   ]
  },
  {
   "cell_type": "code",
   "execution_count": 6,
   "metadata": {},
   "outputs": [],
   "source": [
    "class OpenAIModel(Enum):\n",
    "    GPT35 = \"gpt-3.5-turbo-0125\"  # 0.50 USD per 1 million tokens\n",
    "    GPT4 = \"gpt-4-turbo\"  # 10 USD per 1 million tokens\n",
    "    GPT4o = \"gpt-4o\"  # 5 USD per 1 million tokens\n"
   ]
  },
  {
   "cell_type": "code",
   "execution_count": 24,
   "metadata": {},
   "outputs": [],
   "source": [
    "class OpenAILLM():\n",
    "\n",
    "    def __init__(self, model: OpenAIModel):\n",
    "        self.model = model\n",
    "        self.openai = OpenAI(api_key=OPENAI_API_KEY)\n",
    "        self.input_tokens = 0\n",
    "        self.output_tokens = 0\n",
    "\n",
    "    def answer(self, query: str, temperature: float) -> str:\n",
    "        response = self.openai.chat.completions.create(\n",
    "            model=self.model.value,\n",
    "            messages=[\n",
    "                {\n",
    "                    \"role\": \"user\",\n",
    "                    \"content\": query\n",
    "                }\n",
    "            ],\n",
    "            temperature=temperature\n",
    "        )\n",
    "        self.input_tokens += response.usage.prompt_tokens\n",
    "        self.output_tokens += response.usage.completion_tokens\n",
    "        return response.choices[0].message.content\n",
    "\n"
   ]
  },
  {
   "cell_type": "markdown",
   "metadata": {},
   "source": [
    "Different strategies"
   ]
  },
  {
   "cell_type": "code",
   "execution_count": 47,
   "metadata": {},
   "outputs": [],
   "source": [
    "class PromptFormat(Enum):\n",
    "    BASE = \"base_prompt\"\n",
    "    AUDIENCE = \"audience_prompt\"\n",
    "    RULE_OF_THREE = \"rule_of_three_prompt\"\n",
    "    PUN = \"pun_prompt\"\n",
    "    MISPLACED_SINCERITY = \"misplaced_sincerity_prompt\"\n",
    "    BROKEN_ASSUMPTIONS = \"broken_assumptions_prompt\""
   ]
  },
  {
   "cell_type": "markdown",
   "metadata": {},
   "source": [
    "I used the default temperature setting here, although experimenting with different temperatures might be a good way to enhance the creativity of the LLM."
   ]
  },
  {
   "cell_type": "code",
   "execution_count": 36,
   "metadata": {},
   "outputs": [],
   "source": [
    "model = OpenAIModel.GPT4o\n",
    "llm = OpenAILLM(model)\n",
    "\n",
    "jokes = {}\n",
    "\n",
    "def generate_jokes(prompt, format):\n",
    "    jokes[format] = []\n",
    "    \n",
    "    for i in range(3):\n",
    "        joke = llm.answer(prompt, temperature=0.7)\n",
    "        jokes[format].append(joke)"
   ]
  },
  {
   "cell_type": "code",
   "execution_count": 45,
   "metadata": {},
   "outputs": [],
   "source": [
    "def print_jokes(format):\n",
    "    print(f\"{format}: \")\n",
    "    for joke in jokes[format]:\n",
    "        print(joke)\n",
    "    "
   ]
  },
  {
   "cell_type": "markdown",
   "metadata": {},
   "source": [
    "# Base prompt\n",
    "\n",
    "I will start with the most basic prompt, which literally asks LLM to generate a joke about linux without any additional information. After that, I will make a more complex prompt, and after all evaluate the generated prompts. For each technique, we will generate 3 jokes and put them into the map container."
   ]
  },
  {
   "cell_type": "code",
   "execution_count": 73,
   "metadata": {},
   "outputs": [
    {
     "name": "stdout",
     "output_type": "stream",
     "text": [
      "[\"Why did the Linux server go broke?\\n\\nBecause it couldn't find a CentOS to save!\", 'Why did the Linux kernel go to therapy?\\n\\nBecause it had too many unresolved dependencies!', \"Why did the Linux user break up with their Windows computer?\\n\\nBecause they couldn't handle the constant neediness and preferred something open to new possibilities!\"]\n"
     ]
    }
   ],
   "source": [
    "base_prompt = \"Generate a original joke about Linux.\"\n",
    "generate_jokes(base_prompt, PromptFormat.BASE)\n",
    "\n",
    "print(jokes[PromptFormat.BASE])\n"
   ]
  },
  {
   "cell_type": "markdown",
   "metadata": {},
   "source": [
    "# Audience \n",
    "\n",
    "The same joke can attract different reactions from different groups of people—while one group may respond with silent stares, another might laugh out loud. So one important question is:  Does the audience relate? Before employing different techniques, I decided to use a template that describes the audience for whom the joke is intended.\n"
   ]
  },
  {
   "cell_type": "code",
   "execution_count": 74,
   "metadata": {},
   "outputs": [
    {
     "name": "stdout",
     "output_type": "stream",
     "text": [
      "PromptFormat.AUDIENCE: \n",
      "Why do Linux users never need a therapist?\n",
      "\n",
      "Because they’re always great at handling their own partitions!\n",
      "Why do Linux users always bring a ladder to their computer?\n",
      "\n",
      "Because they heard their system is running on \"elevated\" privileges!\n",
      "Why do Linux users never get lost?\n",
      "\n",
      "Because they always know how to find their root directory!\n"
     ]
    }
   ],
   "source": [
    "audience_prompt = \"Generate an original joke about Linux to share with an audience of tech enthusiasts and professionals.\"\n",
    "generate_jokes(audience_prompt, PromptFormat.AUDIENCE)\n",
    "\n",
    "print_jokes(PromptFormat.AUDIENCE)"
   ]
  },
  {
   "cell_type": "markdown",
   "metadata": {},
   "source": [
    "# Different Strategies"
   ]
  },
  {
   "cell_type": "markdown",
   "metadata": {},
   "source": [
    "## Rule of Three\n",
    "\n",
    "**Definition** The Rule of Three joke format is when you have a list of two similar-\n",
    "objects/actions and one that doesn’t belong. The first two objects/actions\n",
    "create a pattern. The third breaks that pattern.\n",
    "\n",
    "* SAFETY: The 1st and 2nd items in a list (these items share something in\n",
    "common)\n",
    "\n",
    "* VIOLATION: The 3rd item in a list (which is very different from the first 2)\n",
    "\n",
    "* COMEDIC CONFLICT: Comedic conflict comes from breaking the\n",
    "audience’s assumptions about what the third item in the list will be"
   ]
  },
  {
   "cell_type": "code",
   "execution_count": 37,
   "metadata": {},
   "outputs": [
    {
     "name": "stdout",
     "output_type": "stream",
     "text": [
      "=========\n",
      "${format}: \n",
      "Three sysadmins walk into a server room. The first one says, \"I just patched the kernel and everything's running smoothly.\" The second one says, \"I just optimized the database, and the queries are lightning-fast.\" The third one says, \"I just ran 'rm -rf /' and—hey, where did everyone go?\"\n",
      "Why did the Linux admin bring a laptop, a server, and a cat to the data center?\n",
      "\n",
      "The laptop was for remote management, the server was for deploying new services, and the cat was to \"tail\" the log files.\n",
      "Three Linux sysadmins walked into a bar. The first ordered a drink and asked the bartender to chmod 755. The second ordered a drink and asked the bartender to chown root:root. The third sysadmin ordered a drink and asked the bartender to alias 'rm' to 'echo You wish!'.\n"
     ]
    }
   ],
   "source": [
    "rule_of_three_prompt = \"\"\"\n",
    "    Create an original Linux joke for an audience of tech enthusiasts and professionals using the Rule of Three structure. This format involves listing three elements: the first two are similar and establish a pattern, while the third element unexpectedly breaks this pattern, adding a humorous twist.\n",
    "\n",
    "    Example of the technique:\n",
    "    3 men were on a deserted island and found a genie. The genie\n",
    "gave each one wish. The first wished he could be back home\n",
    "with his family and poof! He was gone. The second said he\n",
    "wished he could be back in his hometown and poof! He was\n",
    "gone. The third person’s wish was “I want my friends back.'\n",
    "\"\"\"\n",
    "format = PromptFormat.RULE_OF_THREE\n",
    "generate_jokes(rule_of_three_prompt, format)\n",
    "\n",
    "print_jokes(format)"
   ]
  },
  {
   "cell_type": "markdown",
   "metadata": {},
   "source": [
    "# Pun / Double-Entendre\n",
    "\n",
    "The double-entendre, better known as a pun, is often said to be the lowest\n",
    "form of humor. The reason for this is because coming up with a corny pun\n",
    "is extremely easy. You can take almost any word in the English language,\n",
    "find an alternate meaning, and then create a pun from it. (It should be super easy for LLM)\n"
   ]
  },
  {
   "cell_type": "code",
   "execution_count": 41,
   "metadata": {},
   "outputs": [
    {
     "name": "stdout",
     "output_type": "stream",
     "text": [
      "=========\n",
      "PromptFormat.PUN: \n",
      "Why do Linux sysadmins never get lost? \n",
      "\n",
      "Because they always know their \"root\"!\n",
      "Why do Linux servers never get tired?\n",
      "\n",
      "Because they always have plenty of reboots!\n",
      "Why did the Linux admin bring a ladder to the data center?\n",
      "\n",
      "Because they heard the servers were experiencing high \"uptime\"!\n"
     ]
    }
   ],
   "source": [
    "pun_prompt = \"\"\"Create an original Linux joke for an audience of tech enthusiasts and professionals using a pun or double entendre. Choose a word or phrase that has multiple meanings or sounds similar to another word. Create a setup that leads the audience to think about one meaning of the word, and then deliver a punchline that reveals the other meaning, providing a humorous twist. The joke should be clear and concise, ensuring the pun or double entendre is easily understandable and amusing.\n",
    "\n",
    "Example #1: \"I'm reading a book on anti-gravity. It's impossible to put down!\"\n",
    "Exmaple #2: \"You can tune a guitar, but you can't tuna fish. Unless of course, you play bass.\"\n",
    "\"\"\"\n",
    "\n",
    "format = PromptFormat.PUN\n",
    "generate_jokes(pun_prompt, format)\n",
    "\n",
    "print_jokes(format)"
   ]
  },
  {
   "cell_type": "markdown",
   "metadata": {},
   "source": [
    "# Misplaced Sincerity\n",
    "\n",
    "Misplaced Sincerity  is where the comedian pretends to lack a certain knowledge or awareness of what the audience knows to be true. "
   ]
  },
  {
   "cell_type": "code",
   "execution_count": 44,
   "metadata": {},
   "outputs": [
    {
     "name": "stdout",
     "output_type": "stream",
     "text": [
      "=========\n",
      "PromptFormat.MISPLACED_SINCERITY: \n",
      "Alright, so I was trying to get into this whole Linux thing the other day, and someone told me, \"You gotta get comfortable using the terminal.\"\n",
      "\n",
      "So, you know, I went all out. I set up a little workbench, placed a terminal up there, and even got a cushion for it. I mean, if I'm going to be using this terminal a lot, it better be comfy, right?\n",
      "\n",
      "Then they told me I needed to learn about \"bash scripting.\" So there I was, looking up how to make a bash sound track. Turns out, it's not about sound effects at all! Who knew?\n",
      "\n",
      "And don't even get me started on \"man pages\"—I thought they were some kind of Linux-themed comic book for men. Imagine my disappointment when I saw it was just documentation!\n",
      "Sure, here's a Linux-themed joke using misplaced sincerity:\n",
      "\n",
      "\"Hey folks, so I was trying to get into the whole Linux thing, and someone told me I needed to use the 'root' account for administrative tasks. So there I was, digging in my garden, trying to find this 'root' account. Turns out, it’s not buried next to the potatoes. Who knew?\"\n",
      "Alright, here goes:\n",
      "\n",
      "\"So, the other day, I decided to finally install Linux. I kept hearing about how great it was, you know? But when I got to the part where it said 'mount the drive,' I was a bit confused. I thought, 'Mount the drive? Okay, Linux, I'll play along!' So, I grabbed my car keys, went out to the garage, and tried to attach my hard drive to the roof rack. \n",
      "\n",
      "Turns out, that's not what they meant at all! But hey, on the bright side, it's the only time I've ever been able to say my data was 'driven' to perfection!\"\n"
     ]
    }
   ],
   "source": [
    "misplaced_sincerity_prompt = \"\"\"Create an original Linux joke for an audience of tech enthusiasts and professionals using the technique of misplaced sincerity, where you, as the comedian, pretend not to understand something that the audience knows well. Start with a common phrase or situation. Then, deliberately misinterpret it in a humorous way that showcases your 'lack' of understanding, while the audience is in on the true meaning. The joke should highlight this comedic conflict by allowing the audience to see both the incorrect interpretation and the commonly understood meaning simultaneously.\n",
    "\n",
    "Example: \"Imagine you are talking about cooking and say, 'I was told to whip the cream, so I gave it a motivational speech to get it going. Apparently, that’s not what they meant?\"\n",
    "\"\"\"\n",
    "\n",
    "format = PromptFormat.MISPLACED_SINCERITY\n",
    "generate_jokes(misplaced_sincerity_prompt, format)\n",
    "\n",
    "print_jokes(format)"
   ]
  },
  {
   "cell_type": "markdown",
   "metadata": {},
   "source": [
    "# Broken assumptions\n",
    "\n",
    "This technique involves providing explicit and implicit information in a setup, where the audience fills in gaps with their assumptions. The punchline then subverts these assumptions, creating humor by shifting the expected understanding of the situation."
   ]
  },
  {
   "cell_type": "code",
   "execution_count": 48,
   "metadata": {},
   "outputs": [
    {
     "name": "stdout",
     "output_type": "stream",
     "text": [
      "PromptFormat.BROKEN_ASSUMPTIONS: \n",
      "Sure, here’s an original Linux joke for tech enthusiasts:\n",
      "\n",
      "---\n",
      "\n",
      "So, last weekend, my friend tells me he’s got this old laptop that’s just gathering dust and he wants to revive it. I suggest, “Why not install a lightweight Linux distro? It’ll breathe new life into that ancient machine!” He agrees, so I head over to help him out.\n",
      "\n",
      "We spend the whole afternoon setting it up. We partition the drive, install Xubuntu, configure the settings, and finally, it’s running smoothly. He’s super excited and says, “Wow, this is amazing! It feels like a brand-new laptop!”\n",
      "\n",
      "Just as I’m feeling pretty proud of our work, he scratches his head and asks, “So, when do we install Windows 98?”\n",
      "\n",
      "---\n",
      "\n",
      "The humor lies in the unexpected twist that despite all the setup and excitement about Linux, the friend’s concept of “reviving” the laptop was to install an ancient version of Windows, completely breaking the expectation that he understood and was on board with the idea of using Linux.\n",
      "Sure, here's a joke using the 'Broken Assumptions' technique for a Linux-savvy audience:\n",
      "\n",
      "---\n",
      "\n",
      "At a tech conference, a seasoned Linux sysadmin was giving a talk on system security. He began with a story:\n",
      "\n",
      "\"So, last night, I got a frantic call from my CEO. He said, 'Our main server's been compromised! We need it fixed ASAP!' I grabbed my laptop, SSH'd into the server, and started sifting through logs. Within minutes, I found the issue—a rogue script was creating a backdoor. I quickly isolated it, patched the system, and ran a full security sweep. Crisis averted, I called my CEO back and asked, 'What happened? How did this get past our defenses?'\"\n",
      "\n",
      "The audience leaned in, expecting a technical explanation.\n",
      "\n",
      "The sysadmin paused for dramatic effect and said, \"He responded, 'Oh, I just told ChatGPT to set up a secure server. Guess it had other plans!'\"\n",
      "\n",
      "---\n",
      "\n",
      "The punchline subverts the tech audience's expectation that the breach was caused by a sophisticated hacker, revealing instead that it was due to an AI assistant's unexpected behavior.\n",
      "Sure, here's a joke that uses the 'Broken Assumptions' technique:\n",
      "\n",
      "---\n",
      "\n",
      "Two system administrators walk into a bar. The first one says, \"Man, I've been so busy with these server upgrades. Last night, I even had a dream that I was a root user.\"\n",
      "\n",
      "The second one chuckles and replies, \"Oh yeah? I've had those dreams too. Did you get sudo access and everything?\"\n",
      "\n",
      "The first one grins, \"No, it was even better. I didn't have to deal with any user permissions at all.\"\n",
      "\n",
      "The second admin looks puzzled, \"Wait, how's that possible?\"\n",
      "\n",
      "The first admin leans in and says, \"I was the only user.\"\n",
      "\n",
      "\n"
     ]
    }
   ],
   "source": [
    "broken_assumptions_prompt = \"\"\"Create an original Linux joke for an audience of tech enthusiasts and professionals that plays with their expectations by using the 'Broken Assumptions' technique. Begin by setting up a scenario that provides explicit information, leading the audience to form specific implicit assumptions about the 'who', 'what', 'where', 'when', 'why', and 'how' of the story. Then, deliver a punchline that unexpectedly violates one of these assumptions, creating a humorous twist.\n",
    "\n",
    "Example: \"I gave my cat a bath the other day… they love it. He sat there,\n",
    "he enjoyed it, and it was fun for me too. The fur would stick to\n",
    "my tongue, but other than that...\"\n",
    "\"\"\"\n",
    "\n",
    "format = PromptFormat.BROKEN_ASSUMPTIONS\n",
    "generate_jokes(broken_assumptions_prompt, format)\n",
    "\n",
    "print_jokes(format)"
   ]
  },
  {
   "cell_type": "markdown",
   "metadata": {},
   "source": [
    "# Rate jokes\n",
    "\n",
    "I use a prompt to evaluate and rate the jokes based on how funny they are."
   ]
  },
  {
   "cell_type": "code",
   "execution_count": 69,
   "metadata": {},
   "outputs": [],
   "source": [
    "def rate_joke(joke):\n",
    "    return f\"Rate the funniness of the following joke on a scale from 1 to 5, where 1 is not funny at all and 5 is extremely funny: '{joke}'. Please provide only a single number as your response.\"\n"
   ]
  },
  {
   "cell_type": "code",
   "execution_count": 75,
   "metadata": {},
   "outputs": [],
   "source": [
    "def json_to_csv(joke, rating, filename):\n",
    "    \n",
    "    with open(filename, mode='a', newline='') as file:\n",
    "        writer = csv.writer(file)\n",
    "        \n",
    "        file.seek(0, 2)\n",
    "        if file.tell() == 0:\n",
    "            writer.writerow(['Joke Text', 'Rating']) \n",
    "\n",
    "       \n",
    "        writer.writerow([joke, rating])\n",
    "\n",
    "csv_file = 'joke_ratings.csv'\n"
   ]
  },
  {
   "cell_type": "code",
   "execution_count": 76,
   "metadata": {},
   "outputs": [],
   "source": [
    "for format in jokes:\n",
    "    for joke in jokes[format]:\n",
    "        rating = llm.answer(rate_joke(joke),temperature=0.7)\n",
    "        json_to_csv(joke, rating, csv_file)"
   ]
  }
 ],
 "metadata": {
  "kernelspec": {
   "display_name": "Python 3",
   "language": "python",
   "name": "python3"
  },
  "language_info": {
   "codemirror_mode": {
    "name": "ipython",
    "version": 3
   },
   "file_extension": ".py",
   "mimetype": "text/x-python",
   "name": "python",
   "nbconvert_exporter": "python",
   "pygments_lexer": "ipython3",
   "version": "3.10.11"
  }
 },
 "nbformat": 4,
 "nbformat_minor": 2
}
